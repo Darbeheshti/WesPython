{
 "cells": [
  {
   "cell_type": "code",
   "execution_count": 1,
   "id": "21663a61",
   "metadata": {
    "_cell_guid": "b1076dfc-b9ad-4769-8c92-a6c4dae69d19",
    "_uuid": "8f2839f25d086af736a60e9eeb907d3b93b6e0e5",
    "execution": {
     "iopub.execute_input": "2023-01-06T15:31:13.696829Z",
     "iopub.status.busy": "2023-01-06T15:31:13.696289Z",
     "iopub.status.idle": "2023-01-06T15:31:13.715497Z",
     "shell.execute_reply": "2023-01-06T15:31:13.714180Z"
    },
    "papermill": {
     "duration": 0.033033,
     "end_time": "2023-01-06T15:31:13.718470",
     "exception": false,
     "start_time": "2023-01-06T15:31:13.685437",
     "status": "completed"
    },
    "tags": []
   },
   "outputs": [
    {
     "name": "stdout",
     "output_type": "stream",
     "text": [
      "/kaggle/input/matches/players.csv\n",
      "/kaggle/input/matches/matches.csv\n"
     ]
    }
   ],
   "source": [
    "# This Python 3 environment comes with many helpful analytics libraries installed\n",
    "# It is defined by the kaggle/python Docker image: https://github.com/kaggle/docker-python\n",
    "# For example, here's several helpful packages to load\n",
    "\n",
    "import numpy as np # linear algebra\n",
    "import pandas as pd # data processing, CSV file I/O (e.g. pd.read_csv)\n",
    "\n",
    "# Input data files are available in the read-only \"../input/\" directory\n",
    "# For example, running this (by clicking run or pressing Shift+Enter) will list all files under the input directory\n",
    "\n",
    "import os\n",
    "for dirname, _, filenames in os.walk('/kaggle/input'):\n",
    "    for filename in filenames:\n",
    "        print(os.path.join(dirname, filename))\n",
    "\n",
    "# You can write up to 20GB to the current directory (/kaggle/working/) that gets preserved as output when you create a version using \"Save & Run All\" \n",
    "# You can also write temporary files to /kaggle/temp/, but they won't be saved outside of the current session"
   ]
  },
  {
   "cell_type": "code",
   "execution_count": 2,
   "id": "97b5d948",
   "metadata": {
    "execution": {
     "iopub.execute_input": "2023-01-06T15:31:13.733975Z",
     "iopub.status.busy": "2023-01-06T15:31:13.733593Z",
     "iopub.status.idle": "2023-01-06T15:31:14.207947Z",
     "shell.execute_reply": "2023-01-06T15:31:14.206023Z"
    },
    "papermill": {
     "duration": 0.490985,
     "end_time": "2023-01-06T15:31:14.216343",
     "exception": false,
     "start_time": "2023-01-06T15:31:13.725358",
     "status": "completed"
    },
    "tags": []
   },
   "outputs": [
    {
     "name": "stderr",
     "output_type": "stream",
     "text": [
      "/opt/conda/lib/python3.7/site-packages/IPython/core/interactiveshell.py:3552: DtypeWarning: Columns (11,30) have mixed types.Specify dtype option on import or set low_memory=False.\n",
      "  exec(code_obj, self.user_global_ns, self.user_ns)\n"
     ]
    }
   ],
   "source": [
    "pathp=\"/kaggle/input/matches/players.csv\"\n",
    "pathm=\"/kaggle/input/matches/matches.csv\"\n",
    "players_n=pd.read_csv(pathp)\n",
    "matches_n=pd.read_csv(pathm)"
   ]
  },
  {
   "cell_type": "markdown",
   "id": "9672477d",
   "metadata": {
    "papermill": {
     "duration": 0.007883,
     "end_time": "2023-01-06T15:31:14.232944",
     "exception": false,
     "start_time": "2023-01-06T15:31:14.225061",
     "status": "completed"
    },
    "tags": []
   },
   "source": [
    "Question 1\n",
    "How many rows are there in the players and matches files? Please provide 2 numbers. "
   ]
  },
  {
   "cell_type": "code",
   "execution_count": 3,
   "id": "d13fa85a",
   "metadata": {
    "execution": {
     "iopub.execute_input": "2023-01-06T15:31:14.252337Z",
     "iopub.status.busy": "2023-01-06T15:31:14.250856Z",
     "iopub.status.idle": "2023-01-06T15:31:14.265090Z",
     "shell.execute_reply": "2023-01-06T15:31:14.263950Z"
    },
    "papermill": {
     "duration": 0.02715,
     "end_time": "2023-01-06T15:31:14.268456",
     "exception": false,
     "start_time": "2023-01-06T15:31:14.241306",
     "status": "completed"
    },
    "tags": []
   },
   "outputs": [
    {
     "data": {
      "text/plain": [
       "(20662, 6)"
      ]
     },
     "execution_count": 3,
     "metadata": {},
     "output_type": "execute_result"
    }
   ],
   "source": [
    "players_n.shape"
   ]
  },
  {
   "cell_type": "code",
   "execution_count": 4,
   "id": "12fa54db",
   "metadata": {
    "execution": {
     "iopub.execute_input": "2023-01-06T15:31:14.291837Z",
     "iopub.status.busy": "2023-01-06T15:31:14.290116Z",
     "iopub.status.idle": "2023-01-06T15:31:14.298529Z",
     "shell.execute_reply": "2023-01-06T15:31:14.297607Z"
    },
    "papermill": {
     "duration": 0.020472,
     "end_time": "2023-01-06T15:31:14.301154",
     "exception": false,
     "start_time": "2023-01-06T15:31:14.280682",
     "status": "completed"
    },
    "tags": []
   },
   "outputs": [
    {
     "data": {
      "text/plain": [
       "(50577, 32)"
      ]
     },
     "execution_count": 4,
     "metadata": {},
     "output_type": "execute_result"
    }
   ],
   "source": [
    "matches_n.shape"
   ]
  },
  {
   "cell_type": "markdown",
   "id": "c1038220",
   "metadata": {
    "papermill": {
     "duration": 0.008509,
     "end_time": "2023-01-06T15:31:14.323153",
     "exception": false,
     "start_time": "2023-01-06T15:31:14.314644",
     "status": "completed"
    },
    "tags": []
   },
   "source": [
    "Question 2\n",
    "What is the value in the 33rd row, 3rd column of the players dataset? "
   ]
  },
  {
   "cell_type": "code",
   "execution_count": 5,
   "id": "842cd7d1",
   "metadata": {
    "execution": {
     "iopub.execute_input": "2023-01-06T15:31:14.341226Z",
     "iopub.status.busy": "2023-01-06T15:31:14.340239Z",
     "iopub.status.idle": "2023-01-06T15:31:14.349171Z",
     "shell.execute_reply": "2023-01-06T15:31:14.348025Z"
    },
    "papermill": {
     "duration": 0.019701,
     "end_time": "2023-01-06T15:31:14.351717",
     "exception": false,
     "start_time": "2023-01-06T15:31:14.332016",
     "status": "completed"
    },
    "tags": []
   },
   "outputs": [
    {
     "data": {
      "text/plain": [
       "'Williams'"
      ]
     },
     "execution_count": 5,
     "metadata": {},
     "output_type": "execute_result"
    }
   ],
   "source": [
    "players_n.iloc[32,2]"
   ]
  },
  {
   "cell_type": "markdown",
   "id": "afa17624",
   "metadata": {
    "papermill": {
     "duration": 0.007362,
     "end_time": "2023-01-06T15:31:14.366698",
     "exception": false,
     "start_time": "2023-01-06T15:31:14.359336",
     "status": "completed"
    },
    "tags": []
   },
   "source": [
    "Question 3\n",
    "What is the smallest ID recorded in the winner_id column in the matches dataset?"
   ]
  },
  {
   "cell_type": "code",
   "execution_count": 6,
   "id": "61ce228b",
   "metadata": {
    "execution": {
     "iopub.execute_input": "2023-01-06T15:31:14.384204Z",
     "iopub.status.busy": "2023-01-06T15:31:14.383221Z",
     "iopub.status.idle": "2023-01-06T15:31:14.396303Z",
     "shell.execute_reply": "2023-01-06T15:31:14.395451Z"
    },
    "papermill": {
     "duration": 0.024082,
     "end_time": "2023-01-06T15:31:14.398581",
     "exception": false,
     "start_time": "2023-01-06T15:31:14.374499",
     "status": "completed"
    },
    "tags": []
   },
   "outputs": [
    {
     "data": {
      "text/plain": [
       "200001"
      ]
     },
     "execution_count": 6,
     "metadata": {},
     "output_type": "execute_result"
    }
   ],
   "source": [
    "matches_n[\"winner_id\"].min()"
   ]
  },
  {
   "cell_type": "markdown",
   "id": "8007c9ce",
   "metadata": {
    "papermill": {
     "duration": 0.006824,
     "end_time": "2023-01-06T15:31:14.412628",
     "exception": false,
     "start_time": "2023-01-06T15:31:14.405804",
     "status": "completed"
    },
    "tags": []
   },
   "source": [
    "Question 4\n",
    "What is the average age of losers as recorded in the matches dataset? Please ignore the missing values and round to 2 decimal places. "
   ]
  },
  {
   "cell_type": "code",
   "execution_count": 7,
   "id": "37f75c5f",
   "metadata": {
    "execution": {
     "iopub.execute_input": "2023-01-06T15:31:14.429135Z",
     "iopub.status.busy": "2023-01-06T15:31:14.428237Z",
     "iopub.status.idle": "2023-01-06T15:31:14.439937Z",
     "shell.execute_reply": "2023-01-06T15:31:14.438643Z"
    },
    "papermill": {
     "duration": 0.022378,
     "end_time": "2023-01-06T15:31:14.442218",
     "exception": false,
     "start_time": "2023-01-06T15:31:14.419840",
     "status": "completed"
    },
    "tags": []
   },
   "outputs": [
    {
     "data": {
      "text/plain": [
       "23.91"
      ]
     },
     "execution_count": 7,
     "metadata": {},
     "output_type": "execute_result"
    }
   ],
   "source": [
    "matches_n[\"loser_age\"].mean().round(2)"
   ]
  },
  {
   "cell_type": "markdown",
   "id": "0aad66e7",
   "metadata": {
    "papermill": {
     "duration": 0.007545,
     "end_time": "2023-01-06T15:31:14.457818",
     "exception": false,
     "start_time": "2023-01-06T15:31:14.450273",
     "status": "completed"
    },
    "tags": []
   },
   "source": [
    "Question 5\n",
    "Merge the 2 datasets. Use column player_id from players and winner_id from matches for the merge. How many rows does the resulting dataset contain?\n"
   ]
  },
  {
   "cell_type": "code",
   "execution_count": 8,
   "id": "915c3c88",
   "metadata": {
    "execution": {
     "iopub.execute_input": "2023-01-06T15:31:14.475571Z",
     "iopub.status.busy": "2023-01-06T15:31:14.474694Z",
     "iopub.status.idle": "2023-01-06T15:31:14.755150Z",
     "shell.execute_reply": "2023-01-06T15:31:14.753871Z"
    },
    "papermill": {
     "duration": 0.292302,
     "end_time": "2023-01-06T15:31:14.757916",
     "exception": false,
     "start_time": "2023-01-06T15:31:14.465614",
     "status": "completed"
    },
    "tags": []
   },
   "outputs": [],
   "source": [
    "\n",
    "mergers=pd.merge(players_n, matches_n, left_on=\"player_id\", right_on=\"winner_id\")"
   ]
  },
  {
   "cell_type": "markdown",
   "id": "0ea2d8ce",
   "metadata": {
    "papermill": {
     "duration": 0.007369,
     "end_time": "2023-01-06T15:31:14.772712",
     "exception": false,
     "start_time": "2023-01-06T15:31:14.765343",
     "status": "completed"
    },
    "tags": []
   },
   "source": [
    "Question 6\n",
    "What is the name of the winner with the smallest ID (as recorded in the winner_id column) in the matches dataset? Hint: locate the smallest value in the winner_id column, and examine the entire row. Please provide both a first name and last name.\n"
   ]
  },
  {
   "cell_type": "code",
   "execution_count": 9,
   "id": "6a3b0c4f",
   "metadata": {
    "execution": {
     "iopub.execute_input": "2023-01-06T15:31:14.789929Z",
     "iopub.status.busy": "2023-01-06T15:31:14.789510Z",
     "iopub.status.idle": "2023-01-06T15:31:14.797577Z",
     "shell.execute_reply": "2023-01-06T15:31:14.796095Z"
    },
    "papermill": {
     "duration": 0.019531,
     "end_time": "2023-01-06T15:31:14.799869",
     "exception": false,
     "start_time": "2023-01-06T15:31:14.780338",
     "status": "completed"
    },
    "tags": []
   },
   "outputs": [
    {
     "data": {
      "text/plain": [
       "200001"
      ]
     },
     "execution_count": 9,
     "metadata": {},
     "output_type": "execute_result"
    }
   ],
   "source": [
    "matches_n[\"winner_id\"].min()"
   ]
  },
  {
   "cell_type": "code",
   "execution_count": 10,
   "id": "9884a533",
   "metadata": {
    "execution": {
     "iopub.execute_input": "2023-01-06T15:31:14.817061Z",
     "iopub.status.busy": "2023-01-06T15:31:14.816330Z",
     "iopub.status.idle": "2023-01-06T15:31:14.826245Z",
     "shell.execute_reply": "2023-01-06T15:31:14.825035Z"
    },
    "papermill": {
     "duration": 0.021048,
     "end_time": "2023-01-06T15:31:14.828718",
     "exception": false,
     "start_time": "2023-01-06T15:31:14.807670",
     "status": "completed"
    },
    "tags": []
   },
   "outputs": [
    {
     "data": {
      "text/plain": [
       "0        200001\n",
       "1        200003\n",
       "2        200006\n",
       "3        200008\n",
       "4        200009\n",
       "          ...  \n",
       "50572    201506\n",
       "50573    201594\n",
       "50574    202427\n",
       "50575    201594\n",
       "50576    201593\n",
       "Name: winner_id, Length: 50577, dtype: int64"
      ]
     },
     "execution_count": 10,
     "metadata": {},
     "output_type": "execute_result"
    }
   ],
   "source": [
    "matches_n.loc[:,\"winner_id\"]\n",
    "\n"
   ]
  },
  {
   "cell_type": "code",
   "execution_count": 11,
   "id": "3b44989a",
   "metadata": {
    "execution": {
     "iopub.execute_input": "2023-01-06T15:31:14.846731Z",
     "iopub.status.busy": "2023-01-06T15:31:14.846262Z",
     "iopub.status.idle": "2023-01-06T15:31:14.855603Z",
     "shell.execute_reply": "2023-01-06T15:31:14.854711Z"
    },
    "papermill": {
     "duration": 0.021107,
     "end_time": "2023-01-06T15:31:14.857684",
     "exception": false,
     "start_time": "2023-01-06T15:31:14.836577",
     "status": "completed"
    },
    "tags": []
   },
   "outputs": [
    {
     "data": {
      "text/plain": [
       "best_of                                    3\n",
       "draw_size                                128\n",
       "loser_age                          17.859001\n",
       "loser_entry                              NaN\n",
       "loser_hand                                 R\n",
       "loser_ht                                 NaN\n",
       "loser_id                              200002\n",
       "loser_ioc                                CRO\n",
       "loser_name                     Mirjana Lucic\n",
       "loser_rank                              49.0\n",
       "loser_rank_points                      640.0\n",
       "loser_seed                               NaN\n",
       "match_num                                  1\n",
       "minutes                                  NaN\n",
       "round                                   R128\n",
       "score                                6-1 6-2\n",
       "surface                                 Hard\n",
       "tourney_date                        20000117\n",
       "tourney_id            2000-W-SL-AUS-01A-2000\n",
       "tourney_level                              G\n",
       "tourney_name                 Australian Open\n",
       "winner_age                         19.296372\n",
       "winner_entry                             NaN\n",
       "winner_hand                                R\n",
       "winner_ht                              170.0\n",
       "winner_id                             200001\n",
       "winner_ioc                               SUI\n",
       "winner_name                   Martina Hingis\n",
       "winner_rank                              1.0\n",
       "winner_rank_points                    6003.0\n",
       "winner_seed                              1.0\n",
       "year                                    2000\n",
       "Name: 0, dtype: object"
      ]
     },
     "execution_count": 11,
     "metadata": {},
     "output_type": "execute_result"
    }
   ],
   "source": [
    "matches_n.loc[0,:]"
   ]
  },
  {
   "cell_type": "markdown",
   "id": "086515dc",
   "metadata": {
    "papermill": {
     "duration": 0.007889,
     "end_time": "2023-01-06T15:31:14.873684",
     "exception": false,
     "start_time": "2023-01-06T15:31:14.865795",
     "status": "completed"
    },
    "tags": []
   },
   "source": [
    "Question 7\n",
    "How many matches did Serena Williams win at the Grand Slam level? The level of the matches are recorded in the tourney_level column. The value assigned to Grand Slam events is G.\n"
   ]
  },
  {
   "cell_type": "code",
   "execution_count": 12,
   "id": "4fdecb6a",
   "metadata": {
    "execution": {
     "iopub.execute_input": "2023-01-06T15:31:14.891714Z",
     "iopub.status.busy": "2023-01-06T15:31:14.890747Z",
     "iopub.status.idle": "2023-01-06T15:31:14.912714Z",
     "shell.execute_reply": "2023-01-06T15:31:14.911446Z"
    },
    "papermill": {
     "duration": 0.034005,
     "end_time": "2023-01-06T15:31:14.915517",
     "exception": false,
     "start_time": "2023-01-06T15:31:14.881512",
     "status": "completed"
    },
    "tags": []
   },
   "outputs": [
    {
     "data": {
      "text/plain": [
       "297"
      ]
     },
     "execution_count": 12,
     "metadata": {},
     "output_type": "execute_result"
    }
   ],
   "source": [
    "sum((matches_n['winner_name']=='Serena Williams') & (matches_n['tourney_level']=='G'))\n",
    "\n"
   ]
  },
  {
   "cell_type": "markdown",
   "id": "2470f2d5",
   "metadata": {
    "papermill": {
     "duration": 0.007776,
     "end_time": "2023-01-06T15:31:14.931688",
     "exception": false,
     "start_time": "2023-01-06T15:31:14.923912",
     "status": "completed"
    },
    "tags": []
   },
   "source": [
    "Question 8\n",
    "\n",
    "Write a function which takes a player's name as a string parameter. The function should print out the number of Grand Slam events that this player has won.\n"
   ]
  },
  {
   "cell_type": "code",
   "execution_count": 13,
   "id": "d8e548d1",
   "metadata": {
    "execution": {
     "iopub.execute_input": "2023-01-06T15:31:14.949604Z",
     "iopub.status.busy": "2023-01-06T15:31:14.949151Z",
     "iopub.status.idle": "2023-01-06T15:31:14.954873Z",
     "shell.execute_reply": "2023-01-06T15:31:14.953694Z"
    },
    "papermill": {
     "duration": 0.017645,
     "end_time": "2023-01-06T15:31:14.957344",
     "exception": false,
     "start_time": "2023-01-06T15:31:14.939699",
     "status": "completed"
    },
    "tags": []
   },
   "outputs": [],
   "source": [
    "def WinG(name):\n",
    "    \n",
    "    return sum((matches_n['winner_name']==name) & (matches_n['tourney_level']=='G'))"
   ]
  },
  {
   "cell_type": "code",
   "execution_count": 14,
   "id": "688643d7",
   "metadata": {
    "execution": {
     "iopub.execute_input": "2023-01-06T15:31:14.975762Z",
     "iopub.status.busy": "2023-01-06T15:31:14.974347Z",
     "iopub.status.idle": "2023-01-06T15:31:14.995345Z",
     "shell.execute_reply": "2023-01-06T15:31:14.994379Z"
    },
    "papermill": {
     "duration": 0.032863,
     "end_time": "2023-01-06T15:31:14.997961",
     "exception": false,
     "start_time": "2023-01-06T15:31:14.965098",
     "status": "completed"
    },
    "tags": []
   },
   "outputs": [
    {
     "data": {
      "text/plain": [
       "297"
      ]
     },
     "execution_count": 14,
     "metadata": {},
     "output_type": "execute_result"
    }
   ],
   "source": [
    "WinG('Serena Williams')"
   ]
  },
  {
   "cell_type": "markdown",
   "id": "b87933e5",
   "metadata": {
    "papermill": {
     "duration": 0.008004,
     "end_time": "2023-01-06T15:31:15.014411",
     "exception": false,
     "start_time": "2023-01-06T15:31:15.006407",
     "status": "completed"
    },
    "tags": []
   },
   "source": [
    "Question 9\n",
    "\n",
    "Plot the number of Grand Slam tournaments Serena Williams won in each tourney. The name of the tournaments are recorded in the tourney_name column of the matches dataset. Note: do not worry about different spellings of tournament names, display them as they appear in the dataset.\n"
   ]
  },
  {
   "cell_type": "code",
   "execution_count": 15,
   "id": "e950e273",
   "metadata": {
    "execution": {
     "iopub.execute_input": "2023-01-06T15:31:15.033943Z",
     "iopub.status.busy": "2023-01-06T15:31:15.032679Z",
     "iopub.status.idle": "2023-01-06T15:31:15.037851Z",
     "shell.execute_reply": "2023-01-06T15:31:15.036843Z"
    },
    "papermill": {
     "duration": 0.017493,
     "end_time": "2023-01-06T15:31:15.040302",
     "exception": false,
     "start_time": "2023-01-06T15:31:15.022809",
     "status": "completed"
    },
    "tags": []
   },
   "outputs": [],
   "source": [
    "import matplotlib as plt"
   ]
  },
  {
   "cell_type": "code",
   "execution_count": 16,
   "id": "91d68d8d",
   "metadata": {
    "execution": {
     "iopub.execute_input": "2023-01-06T15:31:15.058712Z",
     "iopub.status.busy": "2023-01-06T15:31:15.057508Z",
     "iopub.status.idle": "2023-01-06T15:31:15.092964Z",
     "shell.execute_reply": "2023-01-06T15:31:15.091373Z"
    },
    "papermill": {
     "duration": 0.047578,
     "end_time": "2023-01-06T15:31:15.095810",
     "exception": false,
     "start_time": "2023-01-06T15:31:15.048232",
     "status": "completed"
    },
    "tags": []
   },
   "outputs": [
    {
     "data": {
      "text/html": [
       "<div>\n",
       "<style scoped>\n",
       "    .dataframe tbody tr th:only-of-type {\n",
       "        vertical-align: middle;\n",
       "    }\n",
       "\n",
       "    .dataframe tbody tr th {\n",
       "        vertical-align: top;\n",
       "    }\n",
       "\n",
       "    .dataframe thead th {\n",
       "        text-align: right;\n",
       "    }\n",
       "</style>\n",
       "<table border=\"1\" class=\"dataframe\">\n",
       "  <thead>\n",
       "    <tr style=\"text-align: right;\">\n",
       "      <th></th>\n",
       "      <th>best_of</th>\n",
       "      <th>draw_size</th>\n",
       "      <th>loser_age</th>\n",
       "      <th>loser_entry</th>\n",
       "      <th>loser_hand</th>\n",
       "      <th>loser_ht</th>\n",
       "      <th>loser_id</th>\n",
       "      <th>loser_ioc</th>\n",
       "      <th>loser_name</th>\n",
       "      <th>loser_rank</th>\n",
       "      <th>...</th>\n",
       "      <th>winner_entry</th>\n",
       "      <th>winner_hand</th>\n",
       "      <th>winner_ht</th>\n",
       "      <th>winner_id</th>\n",
       "      <th>winner_ioc</th>\n",
       "      <th>winner_name</th>\n",
       "      <th>winner_rank</th>\n",
       "      <th>winner_rank_points</th>\n",
       "      <th>winner_seed</th>\n",
       "      <th>year</th>\n",
       "    </tr>\n",
       "  </thead>\n",
       "  <tbody>\n",
       "    <tr>\n",
       "      <th>0</th>\n",
       "      <td>3</td>\n",
       "      <td>128</td>\n",
       "      <td>17.859001</td>\n",
       "      <td>NaN</td>\n",
       "      <td>R</td>\n",
       "      <td>NaN</td>\n",
       "      <td>200002</td>\n",
       "      <td>CRO</td>\n",
       "      <td>Mirjana Lucic</td>\n",
       "      <td>49.0</td>\n",
       "      <td>...</td>\n",
       "      <td>NaN</td>\n",
       "      <td>R</td>\n",
       "      <td>170.0</td>\n",
       "      <td>200001</td>\n",
       "      <td>SUI</td>\n",
       "      <td>Martina Hingis</td>\n",
       "      <td>1.0</td>\n",
       "      <td>6003.0</td>\n",
       "      <td>1.0</td>\n",
       "      <td>2000</td>\n",
       "    </tr>\n",
       "    <tr>\n",
       "      <th>1</th>\n",
       "      <td>3</td>\n",
       "      <td>128</td>\n",
       "      <td>27.118412</td>\n",
       "      <td>Q</td>\n",
       "      <td>R</td>\n",
       "      <td>NaN</td>\n",
       "      <td>200004</td>\n",
       "      <td>AUS</td>\n",
       "      <td>Kerry Anne Guse</td>\n",
       "      <td>133.0</td>\n",
       "      <td>...</td>\n",
       "      <td>NaN</td>\n",
       "      <td>R</td>\n",
       "      <td>167.0</td>\n",
       "      <td>200003</td>\n",
       "      <td>BEL</td>\n",
       "      <td>Justine Henin</td>\n",
       "      <td>63.0</td>\n",
       "      <td>510.0</td>\n",
       "      <td>NaN</td>\n",
       "      <td>2000</td>\n",
       "    </tr>\n",
       "    <tr>\n",
       "      <th>2</th>\n",
       "      <td>3</td>\n",
       "      <td>128</td>\n",
       "      <td>31.378508</td>\n",
       "      <td>NaN</td>\n",
       "      <td>R</td>\n",
       "      <td>NaN</td>\n",
       "      <td>200005</td>\n",
       "      <td>USA</td>\n",
       "      <td>Jolene Watanabe Giltz</td>\n",
       "      <td>118.0</td>\n",
       "      <td>...</td>\n",
       "      <td>NaN</td>\n",
       "      <td>R</td>\n",
       "      <td>NaN</td>\n",
       "      <td>200006</td>\n",
       "      <td>SVK</td>\n",
       "      <td>Karina Habsudova</td>\n",
       "      <td>53.0</td>\n",
       "      <td>574.0</td>\n",
       "      <td>NaN</td>\n",
       "      <td>2000</td>\n",
       "    </tr>\n",
       "    <tr>\n",
       "      <th>3</th>\n",
       "      <td>3</td>\n",
       "      <td>128</td>\n",
       "      <td>22.006845</td>\n",
       "      <td>NaN</td>\n",
       "      <td>R</td>\n",
       "      <td>NaN</td>\n",
       "      <td>200007</td>\n",
       "      <td>CRO</td>\n",
       "      <td>Silvija Talaja</td>\n",
       "      <td>23.0</td>\n",
       "      <td>...</td>\n",
       "      <td>NaN</td>\n",
       "      <td>R</td>\n",
       "      <td>182.0</td>\n",
       "      <td>200008</td>\n",
       "      <td>AUS</td>\n",
       "      <td>Alicia Molik</td>\n",
       "      <td>116.0</td>\n",
       "      <td>245.0</td>\n",
       "      <td>NaN</td>\n",
       "      <td>2000</td>\n",
       "    </tr>\n",
       "    <tr>\n",
       "      <th>4</th>\n",
       "      <td>3</td>\n",
       "      <td>128</td>\n",
       "      <td>24.821355</td>\n",
       "      <td>NaN</td>\n",
       "      <td>R</td>\n",
       "      <td>NaN</td>\n",
       "      <td>200010</td>\n",
       "      <td>ITA</td>\n",
       "      <td>Rita Grande</td>\n",
       "      <td>60.0</td>\n",
       "      <td>...</td>\n",
       "      <td>NaN</td>\n",
       "      <td>R</td>\n",
       "      <td>165.0</td>\n",
       "      <td>200009</td>\n",
       "      <td>THA</td>\n",
       "      <td>Tamarine Tanasugarn</td>\n",
       "      <td>72.0</td>\n",
       "      <td>439.0</td>\n",
       "      <td>NaN</td>\n",
       "      <td>2000</td>\n",
       "    </tr>\n",
       "  </tbody>\n",
       "</table>\n",
       "<p>5 rows × 32 columns</p>\n",
       "</div>"
      ],
      "text/plain": [
       "   best_of  draw_size  loser_age loser_entry loser_hand  loser_ht  loser_id  \\\n",
       "0        3        128  17.859001         NaN          R       NaN    200002   \n",
       "1        3        128  27.118412           Q          R       NaN    200004   \n",
       "2        3        128  31.378508         NaN          R       NaN    200005   \n",
       "3        3        128  22.006845         NaN          R       NaN    200007   \n",
       "4        3        128  24.821355         NaN          R       NaN    200010   \n",
       "\n",
       "  loser_ioc             loser_name  loser_rank  ...  winner_entry winner_hand  \\\n",
       "0       CRO          Mirjana Lucic        49.0  ...           NaN           R   \n",
       "1       AUS        Kerry Anne Guse       133.0  ...           NaN           R   \n",
       "2       USA  Jolene Watanabe Giltz       118.0  ...           NaN           R   \n",
       "3       CRO         Silvija Talaja        23.0  ...           NaN           R   \n",
       "4       ITA            Rita Grande        60.0  ...           NaN           R   \n",
       "\n",
       "   winner_ht  winner_id winner_ioc          winner_name winner_rank  \\\n",
       "0      170.0     200001        SUI       Martina Hingis         1.0   \n",
       "1      167.0     200003        BEL        Justine Henin        63.0   \n",
       "2        NaN     200006        SVK     Karina Habsudova        53.0   \n",
       "3      182.0     200008        AUS         Alicia Molik       116.0   \n",
       "4      165.0     200009        THA  Tamarine Tanasugarn        72.0   \n",
       "\n",
       "   winner_rank_points winner_seed  year  \n",
       "0              6003.0         1.0  2000  \n",
       "1               510.0         NaN  2000  \n",
       "2               574.0         NaN  2000  \n",
       "3               245.0         NaN  2000  \n",
       "4               439.0         NaN  2000  \n",
       "\n",
       "[5 rows x 32 columns]"
      ]
     },
     "execution_count": 16,
     "metadata": {},
     "output_type": "execute_result"
    }
   ],
   "source": [
    "matches_n.head()"
   ]
  },
  {
   "cell_type": "code",
   "execution_count": 17,
   "id": "13925687",
   "metadata": {
    "execution": {
     "iopub.execute_input": "2023-01-06T15:31:15.117269Z",
     "iopub.status.busy": "2023-01-06T15:31:15.116565Z",
     "iopub.status.idle": "2023-01-06T15:31:15.121771Z",
     "shell.execute_reply": "2023-01-06T15:31:15.120576Z"
    },
    "papermill": {
     "duration": 0.018986,
     "end_time": "2023-01-06T15:31:15.124677",
     "exception": false,
     "start_time": "2023-01-06T15:31:15.105691",
     "status": "completed"
    },
    "tags": []
   },
   "outputs": [],
   "source": [
    "data=(matches_n[\"tourney_name\"],matches_n[\"winner_name\"])"
   ]
  },
  {
   "cell_type": "code",
   "execution_count": 18,
   "id": "ef80e2ad",
   "metadata": {
    "execution": {
     "iopub.execute_input": "2023-01-06T15:31:15.144402Z",
     "iopub.status.busy": "2023-01-06T15:31:15.144001Z",
     "iopub.status.idle": "2023-01-06T15:31:15.153170Z",
     "shell.execute_reply": "2023-01-06T15:31:15.151969Z"
    },
    "papermill": {
     "duration": 0.021947,
     "end_time": "2023-01-06T15:31:15.155560",
     "exception": false,
     "start_time": "2023-01-06T15:31:15.133613",
     "status": "completed"
    },
    "tags": []
   },
   "outputs": [
    {
     "data": {
      "text/plain": [
       "0      Australian Open\n",
       "1      Australian Open\n",
       "2      Australian Open\n",
       "3      Australian Open\n",
       "4      Australian Open\n",
       "            ...       \n",
       "495            US Open\n",
       "496            US Open\n",
       "497            US Open\n",
       "498            US Open\n",
       "499            US Open\n",
       "Name: tourney_name, Length: 500, dtype: object"
      ]
     },
     "execution_count": 18,
     "metadata": {},
     "output_type": "execute_result"
    }
   ],
   "source": [
    "matches_n[\"tourney_name\"][:500]\n",
    "\n"
   ]
  },
  {
   "cell_type": "markdown",
   "id": "9e765d37",
   "metadata": {
    "papermill": {
     "duration": 0.008055,
     "end_time": "2023-01-06T15:31:15.171971",
     "exception": false,
     "start_time": "2023-01-06T15:31:15.163916",
     "status": "completed"
    },
    "tags": []
   },
   "source": [
    "Question 10¶\n",
    "\n",
    "There is a difference in the spelling of one of the tourney names: \"US Open\"\" is also spelled as \"Us Open\". Please rename all values of \"Us Open\" in the tourney_name column to \"US Open\".\n"
   ]
  },
  {
   "cell_type": "markdown",
   "id": "a79afdb0",
   "metadata": {
    "papermill": {
     "duration": 0.007788,
     "end_time": "2023-01-06T15:31:15.188136",
     "exception": false,
     "start_time": "2023-01-06T15:31:15.180348",
     "status": "completed"
    },
    "tags": []
   },
   "source": [
    "Question 11\n",
    "\n",
    "Now that we know the number of wins by Serena Williams, we would like to understand it better. It is often useful to think about quantities in relative terms. How would you compare the number of Grand Slam wins by Serena Williams to wins by other players?\n"
   ]
  },
  {
   "cell_type": "markdown",
   "id": "c9ec951d",
   "metadata": {
    "papermill": {
     "duration": 0.00795,
     "end_time": "2023-01-06T15:31:15.204328",
     "exception": false,
     "start_time": "2023-01-06T15:31:15.196378",
     "status": "completed"
    },
    "tags": []
   },
   "source": [
    "Question 12\n",
    "\n",
    "It is possible that left-handed players are at an advantage against right-handed players. Based on this dataset, how would you test this hypothesis? How would you investigate whether the surface has any influence on this relationship?\n"
   ]
  }
 ],
 "metadata": {
  "kernelspec": {
   "display_name": "Python 3",
   "language": "python",
   "name": "python3"
  },
  "language_info": {
   "codemirror_mode": {
    "name": "ipython",
    "version": 3
   },
   "file_extension": ".py",
   "mimetype": "text/x-python",
   "name": "python",
   "nbconvert_exporter": "python",
   "pygments_lexer": "ipython3",
   "version": "3.7.12"
  },
  "papermill": {
   "default_parameters": {},
   "duration": 11.428674,
   "end_time": "2023-01-06T15:31:15.935748",
   "environment_variables": {},
   "exception": null,
   "input_path": "__notebook__.ipynb",
   "output_path": "__notebook__.ipynb",
   "parameters": {},
   "start_time": "2023-01-06T15:31:04.507074",
   "version": "2.3.4"
  }
 },
 "nbformat": 4,
 "nbformat_minor": 5
}
